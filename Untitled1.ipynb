{
  "nbformat": 4,
  "nbformat_minor": 0,
  "metadata": {
    "colab": {
      "name": "Untitled1.ipynb",
      "provenance": [],
      "authorship_tag": "ABX9TyNJvzS3J/v9HJqINb59KSv1",
      "include_colab_link": true
    },
    "kernelspec": {
      "name": "python3",
      "display_name": "Python 3"
    },
    "language_info": {
      "name": "python"
    }
  },
  "cells": [
    {
      "cell_type": "markdown",
      "metadata": {
        "id": "view-in-github",
        "colab_type": "text"
      },
      "source": [
        "<a href=\"https://colab.research.google.com/github/AnnaSakuchanova/Analysis-of-volcano-activity/blob/main/Untitled1.ipynb\" target=\"_parent\"><img src=\"https://colab.research.google.com/assets/colab-badge.svg\" alt=\"Open In Colab\"/></a>"
      ]
    },
    {
      "cell_type": "code",
      "execution_count": null,
      "metadata": {
        "id": "1OqerKqXmC6C"
      },
      "outputs": [],
      "source": [
        "import numpy as np\n",
        "import matplotlib.pyplot as plt\n",
        "import random\n",
        "import os\n",
        "import PIL\n",
        "\n",
        "from keras.datasets import mnist\n",
        "from keras.models import Sequential\n",
        "from keras.layers.core import Dense,Dropout,Activation\n",
        "from keras.utils import np_utils"
      ]
    },
    {
      "cell_type": "markdown",
      "source": [
        ""
      ],
      "metadata": {
        "id": "4MGQoZ7DmXty"
      }
    },
    {
      "cell_type": "code",
      "source": [
        "DATASET_path = \"/content/dataset\""
      ],
      "metadata": {
        "id": "bMXIgYnXmDkb"
      },
      "execution_count": null,
      "outputs": []
    },
    {
      "cell_type": "code",
      "source": [
        "#Желаемый размер\n",
        "TARGET_WIDTH = 28\n",
        "TARGET_HEIGHT = 28\n",
        "#Отложите 20% на проверку и 20% на тестирование\n",
        "VAL_RATIO = 0.2\n",
        "TEST_RATIO = 0.2\n",
        "\n",
        "INVERT = False\n",
        "\n",
        "random.seed(42)"
      ],
      "metadata": {
        "id": "753i-wZ4mni0"
      },
      "execution_count": null,
      "outputs": []
    },
    {
      "cell_type": "code",
      "source": [
        "##Загружать изображения как массивы Numpy\n",
        "\n",
        "labels = []\n",
        "y_all = []\n",
        "X_all = []\n",
        "\n",
        "\n",
        "for label in os.listdir(DATASET_path):\n",
        "  class_dir = os.path.join(DATASET_path, label)\n",
        "  if os.path.isdir(class_dir) and label != \".ipynb_checkpoints\":\n",
        "      labels.append(label)\n",
        "      for i, file in enumerate(os.listdir(class_dir)):\n",
        "        if file != \".ipynb_checkpoints\":\n",
        "            file_path = os.path.join(class_dir, file)\n",
        "            img = PIL.Image.open(file_path).convert('L')\n",
        "            img_array = np.asarray(img)\n",
        "            if INVERT:\n",
        "                img_array = 255 - img_array\n",
        "            X_all.append(img_array)\n",
        "            y_all.append(label)\n",
        "        print(\"Added\", str(i + 1), \"images from\", label)\n",
        "# Рассчитать общее количество образцов\n",
        "num_samples = len(X_all)\n",
        "\n",
        "# Отсортировать список ярлыков в алфавитном порядке\n",
        "labels = sorted(labels)\n",
        "\n",
        "# Print out labels and number of samples\n",
        "print(labels)\n",
        "print(\"Number of samples:\", num_samples)"
      ],
      "metadata": {
        "colab": {
          "base_uri": "https://localhost:8080/"
        },
        "id": "kSgnp2L_mnmC",
        "outputId": "1ccf7b6e-c905-4926-f928-74b2d1979c2f"
      },
      "execution_count": null,
      "outputs": [
        {
          "output_type": "stream",
          "name": "stdout",
          "text": [
            "Added 1 images from resistor\n",
            "Added 2 images from resistor\n",
            "Added 3 images from resistor\n",
            "Added 4 images from resistor\n",
            "Added 5 images from resistor\n",
            "Added 6 images from resistor\n",
            "Added 7 images from resistor\n",
            "Added 8 images from resistor\n",
            "Added 9 images from resistor\n",
            "Added 10 images from resistor\n",
            "Added 11 images from resistor\n",
            "Added 12 images from resistor\n",
            "Added 13 images from resistor\n",
            "Added 14 images from resistor\n",
            "Added 15 images from resistor\n",
            "Added 16 images from resistor\n",
            "Added 17 images from resistor\n",
            "Added 18 images from resistor\n",
            "Added 19 images from resistor\n",
            "Added 20 images from resistor\n",
            "Added 21 images from resistor\n",
            "Added 22 images from resistor\n",
            "Added 23 images from resistor\n",
            "Added 24 images from resistor\n",
            "Added 25 images from resistor\n",
            "Added 26 images from resistor\n",
            "Added 27 images from resistor\n",
            "Added 28 images from resistor\n",
            "Added 29 images from resistor\n",
            "Added 30 images from resistor\n",
            "Added 31 images from resistor\n",
            "Added 32 images from resistor\n",
            "Added 33 images from resistor\n",
            "Added 34 images from resistor\n",
            "Added 35 images from resistor\n",
            "Added 36 images from resistor\n",
            "Added 37 images from resistor\n",
            "Added 38 images from resistor\n",
            "Added 39 images from resistor\n",
            "Added 40 images from resistor\n",
            "Added 41 images from resistor\n",
            "Added 42 images from resistor\n",
            "Added 43 images from resistor\n",
            "Added 44 images from resistor\n",
            "Added 45 images from resistor\n",
            "Added 46 images from resistor\n",
            "Added 47 images from resistor\n",
            "Added 48 images from resistor\n",
            "Added 49 images from resistor\n",
            "Added 50 images from resistor\n",
            "Added 1 images from background\n",
            "Added 2 images from background\n",
            "Added 3 images from background\n",
            "Added 4 images from background\n",
            "Added 5 images from background\n",
            "Added 6 images from background\n",
            "Added 7 images from background\n",
            "Added 8 images from background\n",
            "Added 9 images from background\n",
            "Added 10 images from background\n",
            "Added 11 images from background\n",
            "Added 12 images from background\n",
            "Added 13 images from background\n",
            "Added 14 images from background\n",
            "Added 15 images from background\n",
            "Added 16 images from background\n",
            "Added 17 images from background\n",
            "Added 18 images from background\n",
            "Added 19 images from background\n",
            "Added 20 images from background\n",
            "Added 21 images from background\n",
            "Added 22 images from background\n",
            "Added 23 images from background\n",
            "Added 24 images from background\n",
            "Added 25 images from background\n",
            "Added 26 images from background\n",
            "Added 27 images from background\n",
            "Added 28 images from background\n",
            "Added 29 images from background\n",
            "Added 30 images from background\n",
            "Added 31 images from background\n",
            "Added 32 images from background\n",
            "Added 33 images from background\n",
            "Added 34 images from background\n",
            "Added 35 images from background\n",
            "Added 36 images from background\n",
            "Added 37 images from background\n",
            "Added 38 images from background\n",
            "Added 39 images from background\n",
            "Added 40 images from background\n",
            "Added 41 images from background\n",
            "Added 42 images from background\n",
            "Added 43 images from background\n",
            "Added 44 images from background\n",
            "Added 45 images from background\n",
            "Added 46 images from background\n",
            "Added 47 images from background\n",
            "Added 48 images from background\n",
            "Added 49 images from background\n",
            "Added 50 images from background\n",
            "Added 1 images from capacitor\n",
            "Added 2 images from capacitor\n",
            "Added 3 images from capacitor\n",
            "Added 4 images from capacitor\n",
            "Added 5 images from capacitor\n",
            "Added 6 images from capacitor\n",
            "Added 7 images from capacitor\n",
            "Added 8 images from capacitor\n",
            "Added 9 images from capacitor\n",
            "Added 10 images from capacitor\n",
            "Added 11 images from capacitor\n",
            "Added 12 images from capacitor\n",
            "Added 13 images from capacitor\n",
            "Added 14 images from capacitor\n",
            "Added 15 images from capacitor\n",
            "Added 16 images from capacitor\n",
            "Added 17 images from capacitor\n",
            "Added 18 images from capacitor\n",
            "Added 19 images from capacitor\n",
            "Added 20 images from capacitor\n",
            "Added 21 images from capacitor\n",
            "Added 22 images from capacitor\n",
            "Added 23 images from capacitor\n",
            "Added 24 images from capacitor\n",
            "Added 25 images from capacitor\n",
            "Added 26 images from capacitor\n",
            "Added 27 images from capacitor\n",
            "Added 28 images from capacitor\n",
            "Added 29 images from capacitor\n",
            "Added 30 images from capacitor\n",
            "Added 31 images from capacitor\n",
            "Added 32 images from capacitor\n",
            "Added 33 images from capacitor\n",
            "Added 34 images from capacitor\n",
            "Added 35 images from capacitor\n",
            "Added 36 images from capacitor\n",
            "Added 37 images from capacitor\n",
            "Added 38 images from capacitor\n",
            "Added 39 images from capacitor\n",
            "Added 40 images from capacitor\n",
            "Added 41 images from capacitor\n",
            "Added 42 images from capacitor\n",
            "Added 43 images from capacitor\n",
            "Added 44 images from capacitor\n",
            "Added 45 images from capacitor\n",
            "Added 46 images from capacitor\n",
            "Added 47 images from capacitor\n",
            "Added 48 images from capacitor\n",
            "Added 49 images from capacitor\n",
            "Added 50 images from capacitor\n",
            "Added 1 images from led\n",
            "Added 2 images from led\n",
            "Added 3 images from led\n",
            "Added 4 images from led\n",
            "Added 5 images from led\n",
            "Added 6 images from led\n",
            "Added 7 images from led\n",
            "Added 8 images from led\n",
            "Added 9 images from led\n",
            "Added 10 images from led\n",
            "Added 11 images from led\n",
            "Added 12 images from led\n",
            "Added 13 images from led\n",
            "Added 14 images from led\n",
            "Added 15 images from led\n",
            "Added 16 images from led\n",
            "Added 17 images from led\n",
            "Added 18 images from led\n",
            "Added 19 images from led\n",
            "Added 20 images from led\n",
            "Added 21 images from led\n",
            "Added 22 images from led\n",
            "Added 23 images from led\n",
            "Added 24 images from led\n",
            "Added 25 images from led\n",
            "Added 26 images from led\n",
            "Added 27 images from led\n",
            "Added 28 images from led\n",
            "Added 29 images from led\n",
            "Added 30 images from led\n",
            "Added 31 images from led\n",
            "Added 32 images from led\n",
            "Added 33 images from led\n",
            "Added 34 images from led\n",
            "Added 35 images from led\n",
            "Added 36 images from led\n",
            "Added 37 images from led\n",
            "Added 38 images from led\n",
            "Added 39 images from led\n",
            "Added 40 images from led\n",
            "Added 41 images from led\n",
            "Added 42 images from led\n",
            "Added 43 images from led\n",
            "Added 44 images from led\n",
            "Added 45 images from led\n",
            "Added 46 images from led\n",
            "Added 47 images from led\n",
            "Added 48 images from led\n",
            "Added 49 images from led\n",
            "Added 50 images from led\n",
            "Added 1 images from diode\n",
            "Added 2 images from diode\n",
            "Added 3 images from diode\n",
            "Added 4 images from diode\n",
            "Added 5 images from diode\n",
            "Added 6 images from diode\n",
            "Added 7 images from diode\n",
            "Added 8 images from diode\n",
            "Added 9 images from diode\n",
            "Added 10 images from diode\n",
            "Added 11 images from diode\n",
            "Added 12 images from diode\n",
            "Added 13 images from diode\n",
            "Added 14 images from diode\n",
            "Added 15 images from diode\n",
            "Added 16 images from diode\n",
            "Added 17 images from diode\n",
            "Added 18 images from diode\n",
            "Added 19 images from diode\n",
            "Added 20 images from diode\n",
            "Added 21 images from diode\n",
            "Added 22 images from diode\n",
            "Added 23 images from diode\n",
            "Added 24 images from diode\n",
            "Added 25 images from diode\n",
            "Added 26 images from diode\n",
            "Added 27 images from diode\n",
            "Added 28 images from diode\n",
            "Added 29 images from diode\n",
            "Added 30 images from diode\n",
            "Added 31 images from diode\n",
            "Added 32 images from diode\n",
            "Added 33 images from diode\n",
            "Added 34 images from diode\n",
            "Added 35 images from diode\n",
            "Added 36 images from diode\n",
            "Added 37 images from diode\n",
            "Added 38 images from diode\n",
            "Added 39 images from diode\n",
            "Added 40 images from diode\n",
            "Added 41 images from diode\n",
            "Added 42 images from diode\n",
            "Added 43 images from diode\n",
            "Added 44 images from diode\n",
            "Added 45 images from diode\n",
            "Added 46 images from diode\n",
            "Added 47 images from diode\n",
            "Added 48 images from diode\n",
            "Added 49 images from diode\n",
            "Added 50 images from diode\n",
            "['background', 'capacitor', 'diode', 'led', 'resistor']\n",
            "Number of samples: 250\n"
          ]
        }
      ]
    },
    {
      "cell_type": "code",
      "source": [
        "#Преобразование меток в числа\n",
        "\n",
        "#Показывать ярлыки перед преобразованием\n",
        "print(\"Before:\", y_all)"
      ],
      "metadata": {
        "colab": {
          "base_uri": "https://localhost:8080/"
        },
        "id": "uex5X_vtmnqR",
        "outputId": "6d560842-5e42-439e-b43c-f0d6c9879873"
      },
      "execution_count": null,
      "outputs": [
        {
          "output_type": "stream",
          "name": "stdout",
          "text": [
            "Before: ['resistor', 'resistor', 'resistor', 'resistor', 'resistor', 'resistor', 'resistor', 'resistor', 'resistor', 'resistor', 'resistor', 'resistor', 'resistor', 'resistor', 'resistor', 'resistor', 'resistor', 'resistor', 'resistor', 'resistor', 'resistor', 'resistor', 'resistor', 'resistor', 'resistor', 'resistor', 'resistor', 'resistor', 'resistor', 'resistor', 'resistor', 'resistor', 'resistor', 'resistor', 'resistor', 'resistor', 'resistor', 'resistor', 'resistor', 'resistor', 'resistor', 'resistor', 'resistor', 'resistor', 'resistor', 'resistor', 'resistor', 'resistor', 'resistor', 'resistor', 'background', 'background', 'background', 'background', 'background', 'background', 'background', 'background', 'background', 'background', 'background', 'background', 'background', 'background', 'background', 'background', 'background', 'background', 'background', 'background', 'background', 'background', 'background', 'background', 'background', 'background', 'background', 'background', 'background', 'background', 'background', 'background', 'background', 'background', 'background', 'background', 'background', 'background', 'background', 'background', 'background', 'background', 'background', 'background', 'background', 'background', 'background', 'background', 'background', 'background', 'capacitor', 'capacitor', 'capacitor', 'capacitor', 'capacitor', 'capacitor', 'capacitor', 'capacitor', 'capacitor', 'capacitor', 'capacitor', 'capacitor', 'capacitor', 'capacitor', 'capacitor', 'capacitor', 'capacitor', 'capacitor', 'capacitor', 'capacitor', 'capacitor', 'capacitor', 'capacitor', 'capacitor', 'capacitor', 'capacitor', 'capacitor', 'capacitor', 'capacitor', 'capacitor', 'capacitor', 'capacitor', 'capacitor', 'capacitor', 'capacitor', 'capacitor', 'capacitor', 'capacitor', 'capacitor', 'capacitor', 'capacitor', 'capacitor', 'capacitor', 'capacitor', 'capacitor', 'capacitor', 'capacitor', 'capacitor', 'capacitor', 'capacitor', 'led', 'led', 'led', 'led', 'led', 'led', 'led', 'led', 'led', 'led', 'led', 'led', 'led', 'led', 'led', 'led', 'led', 'led', 'led', 'led', 'led', 'led', 'led', 'led', 'led', 'led', 'led', 'led', 'led', 'led', 'led', 'led', 'led', 'led', 'led', 'led', 'led', 'led', 'led', 'led', 'led', 'led', 'led', 'led', 'led', 'led', 'led', 'led', 'led', 'led', 'diode', 'diode', 'diode', 'diode', 'diode', 'diode', 'diode', 'diode', 'diode', 'diode', 'diode', 'diode', 'diode', 'diode', 'diode', 'diode', 'diode', 'diode', 'diode', 'diode', 'diode', 'diode', 'diode', 'diode', 'diode', 'diode', 'diode', 'diode', 'diode', 'diode', 'diode', 'diode', 'diode', 'diode', 'diode', 'diode', 'diode', 'diode', 'diode', 'diode', 'diode', 'diode', 'diode', 'diode', 'diode', 'diode', 'diode', 'diode', 'diode', 'diode']\n"
          ]
        }
      ]
    },
    {
      "cell_type": "code",
      "source": [
        "#Преобразуйте каждую метку в ее индекс в метках\n",
        "y_out = []\n",
        "for i, label in enumerate(y_all):\n",
        "    y_out.append(labels.index(label))\n",
        "y_all = y_out\n",
        "\n",
        "print(\"After:\", y_all)"
      ],
      "metadata": {
        "colab": {
          "base_uri": "https://localhost:8080/"
        },
        "id": "-V1sytLUmntR",
        "outputId": "2cee59a9-f786-4cf3-dfb1-9ba0d82b3a5f"
      },
      "execution_count": null,
      "outputs": [
        {
          "output_type": "stream",
          "name": "stdout",
          "text": [
            "After: [4, 4, 4, 4, 4, 4, 4, 4, 4, 4, 4, 4, 4, 4, 4, 4, 4, 4, 4, 4, 4, 4, 4, 4, 4, 4, 4, 4, 4, 4, 4, 4, 4, 4, 4, 4, 4, 4, 4, 4, 4, 4, 4, 4, 4, 4, 4, 4, 4, 4, 0, 0, 0, 0, 0, 0, 0, 0, 0, 0, 0, 0, 0, 0, 0, 0, 0, 0, 0, 0, 0, 0, 0, 0, 0, 0, 0, 0, 0, 0, 0, 0, 0, 0, 0, 0, 0, 0, 0, 0, 0, 0, 0, 0, 0, 0, 0, 0, 0, 0, 1, 1, 1, 1, 1, 1, 1, 1, 1, 1, 1, 1, 1, 1, 1, 1, 1, 1, 1, 1, 1, 1, 1, 1, 1, 1, 1, 1, 1, 1, 1, 1, 1, 1, 1, 1, 1, 1, 1, 1, 1, 1, 1, 1, 1, 1, 1, 1, 1, 1, 3, 3, 3, 3, 3, 3, 3, 3, 3, 3, 3, 3, 3, 3, 3, 3, 3, 3, 3, 3, 3, 3, 3, 3, 3, 3, 3, 3, 3, 3, 3, 3, 3, 3, 3, 3, 3, 3, 3, 3, 3, 3, 3, 3, 3, 3, 3, 3, 3, 3, 2, 2, 2, 2, 2, 2, 2, 2, 2, 2, 2, 2, 2, 2, 2, 2, 2, 2, 2, 2, 2, 2, 2, 2, 2, 2, 2, 2, 2, 2, 2, 2, 2, 2, 2, 2, 2, 2, 2, 2, 2, 2, 2, 2, 2, 2, 2, 2, 2, 2]\n"
          ]
        }
      ]
    },
    {
      "cell_type": "code",
      "source": [
        "##Перемешайте образцы и этикетки вместе, разделите на тестовые, проверочные и обучающие наборы\n",
        "\n",
        "#Перемешать сэмплы и связанные с ними метки вместе\n",
        "\n",
        "X_y = list(zip(X_all, y_all))\n",
        "random.shuffle(X_y)\n",
        "X_all, y_all = zip(*X_y)"
      ],
      "metadata": {
        "id": "Ob3F6QAEuQJK"
      },
      "execution_count": null,
      "outputs": []
    },
    {
      "cell_type": "code",
      "source": [
        "#Рассчитать количество проверочных и тестовых образцов, которые необходимо отложить (округлить в меньшую сторону)\n",
        "\n",
        "num_samples_test = int(TEST_RATIO * num_samples)\n",
        "num_samples_val = int(VAL_RATIO * num_samples)"
      ],
      "metadata": {
        "id": "L_I2brTTuQL6"
      },
      "execution_count": null,
      "outputs": []
    },
    {
      "cell_type": "code",
      "source": [
        "#Первые образцы num_samples_test из перетасованного списка становятся набором тестов\n",
        "\n",
        "X_train = X_all[num_samples_test:(num_samples_test + num_samples_val):]\n",
        "y_train = y_all[num_samples_test:(num_samples_test + num_samples_val):]\n"
      ],
      "metadata": {
        "id": "-lvUr54KuQOx"
      },
      "execution_count": null,
      "outputs": []
    }
  ]
}